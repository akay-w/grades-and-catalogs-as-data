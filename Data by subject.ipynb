{
 "cells": [
  {
   "cell_type": "code",
   "execution_count": 1,
   "id": "f215e985",
   "metadata": {},
   "outputs": [],
   "source": [
    "import pandas as pd\n",
    "import string"
   ]
  },
  {
   "cell_type": "code",
   "execution_count": 2,
   "id": "0044da23",
   "metadata": {},
   "outputs": [],
   "source": [
    "#Changed this option so that I could see the full descriptions\n",
    "#Otherwise they're abbreviated, since they're so long\n",
    "pd.set_option('display.max_colwidth', None)"
   ]
  },
  {
   "cell_type": "code",
   "execution_count": 9,
   "id": "9730fbda",
   "metadata": {},
   "outputs": [],
   "source": [
    "#Read in cleaned data from pickle file\n",
    "path = r\"C:\\Users\\Mandy\\Documents\\Data science projects\\Furman catalog\\cleaned_data.pkl\"\n",
    "df = pd.read_pickle(path)"
   ]
  },
  {
   "cell_type": "code",
   "execution_count": 10,
   "id": "46aca101",
   "metadata": {},
   "outputs": [
    {
     "data": {
      "text/html": [
       "<div>\n",
       "<style scoped>\n",
       "    .dataframe tbody tr th:only-of-type {\n",
       "        vertical-align: middle;\n",
       "    }\n",
       "\n",
       "    .dataframe tbody tr th {\n",
       "        vertical-align: top;\n",
       "    }\n",
       "\n",
       "    .dataframe thead th {\n",
       "        text-align: right;\n",
       "    }\n",
       "</style>\n",
       "<table border=\"1\" class=\"dataframe\">\n",
       "  <thead>\n",
       "    <tr style=\"text-align: right;\">\n",
       "      <th></th>\n",
       "      <th>Course</th>\n",
       "      <th>Name</th>\n",
       "      <th>Description</th>\n",
       "      <th>Original Description</th>\n",
       "    </tr>\n",
       "  </thead>\n",
       "  <tbody>\n",
       "    <tr>\n",
       "      <th>0</th>\n",
       "      <td>ANT 101</td>\n",
       "      <td>Introduction to Anthropology</td>\n",
       "      <td>[introduction, anthropology, human, culture, past, present, comparative, subsistence, regime, economics, stratification, political, organization, marriage, kinship, culture, religion, social, cultural, change]</td>\n",
       "      <td>Introduction to anthropology - the study of human cultures in the past and present. Topics include the comparative study of subsistence regimes and economics, stratification and political organization, marriage and kinship, culture, religion, and social and cultural change. 4 credits.</td>\n",
       "    </tr>\n",
       "    <tr>\n",
       "      <th>1</th>\n",
       "      <td>ANT 105</td>\n",
       "      <td>World Prehistory</td>\n",
       "      <td>[introduction, physical, anthropology, archaeology, human, evolution, human, physical, variation, peopling, world, origin, food, production, comparison, complex, society, around, world]</td>\n",
       "      <td>An introduction to physical anthropology and archaeology.  Topics include human evolution, human physical variation, the peopling of the world, the origins of food production and a comparison of complex societies around the world.</td>\n",
       "    </tr>\n",
       "  </tbody>\n",
       "</table>\n",
       "</div>"
      ],
      "text/plain": [
       "    Course                          Name  \\\n",
       "0  ANT 101  Introduction to Anthropology   \n",
       "1  ANT 105              World Prehistory   \n",
       "\n",
       "                                                                                                                                                                                                         Description  \\\n",
       "0  [introduction, anthropology, human, culture, past, present, comparative, subsistence, regime, economics, stratification, political, organization, marriage, kinship, culture, religion, social, cultural, change]   \n",
       "1                          [introduction, physical, anthropology, archaeology, human, evolution, human, physical, variation, peopling, world, origin, food, production, comparison, complex, society, around, world]   \n",
       "\n",
       "                                                                                                                                                                                                                                                                             Original Description  \n",
       "0  Introduction to anthropology - the study of human cultures in the past and present. Topics include the comparative study of subsistence regimes and economics, stratification and political organization, marriage and kinship, culture, religion, and social and cultural change. 4 credits.   \n",
       "1                                                         An introduction to physical anthropology and archaeology.  Topics include human evolution, human physical variation, the peopling of the world, the origins of food production and a comparison of complex societies around the world.   "
      ]
     },
     "execution_count": 10,
     "metadata": {},
     "output_type": "execute_result"
    }
   ],
   "source": [
    "df.head(2)"
   ]
  },
  {
   "cell_type": "code",
   "execution_count": 11,
   "id": "e4b08985",
   "metadata": {},
   "outputs": [],
   "source": [
    "#Make a copy of the dataframe to start splitting it up by subject\n",
    "subject_df = df.copy()"
   ]
  },
  {
   "cell_type": "code",
   "execution_count": 12,
   "id": "6619c877",
   "metadata": {},
   "outputs": [
    {
     "data": {
      "text/html": [
       "<div>\n",
       "<style scoped>\n",
       "    .dataframe tbody tr th:only-of-type {\n",
       "        vertical-align: middle;\n",
       "    }\n",
       "\n",
       "    .dataframe tbody tr th {\n",
       "        vertical-align: top;\n",
       "    }\n",
       "\n",
       "    .dataframe thead th {\n",
       "        text-align: right;\n",
       "    }\n",
       "</style>\n",
       "<table border=\"1\" class=\"dataframe\">\n",
       "  <thead>\n",
       "    <tr style=\"text-align: right;\">\n",
       "      <th></th>\n",
       "      <th>Subject</th>\n",
       "      <th>Course Number</th>\n",
       "      <th>Course</th>\n",
       "      <th>Name</th>\n",
       "      <th>Description</th>\n",
       "      <th>Original Description</th>\n",
       "    </tr>\n",
       "  </thead>\n",
       "  <tbody>\n",
       "    <tr>\n",
       "      <th>0</th>\n",
       "      <td>ANT</td>\n",
       "      <td>101</td>\n",
       "      <td>ANT 101</td>\n",
       "      <td>Introduction to Anthropology</td>\n",
       "      <td>[introduction, anthropology, human, culture, past, present, comparative, subsistence, regime, economics, stratification, political, organization, marriage, kinship, culture, religion, social, cultural, change]</td>\n",
       "      <td>Introduction to anthropology - the study of human cultures in the past and present. Topics include the comparative study of subsistence regimes and economics, stratification and political organization, marriage and kinship, culture, religion, and social and cultural change. 4 credits.</td>\n",
       "    </tr>\n",
       "    <tr>\n",
       "      <th>1</th>\n",
       "      <td>ANT</td>\n",
       "      <td>105</td>\n",
       "      <td>ANT 105</td>\n",
       "      <td>World Prehistory</td>\n",
       "      <td>[introduction, physical, anthropology, archaeology, human, evolution, human, physical, variation, peopling, world, origin, food, production, comparison, complex, society, around, world]</td>\n",
       "      <td>An introduction to physical anthropology and archaeology.  Topics include human evolution, human physical variation, the peopling of the world, the origins of food production and a comparison of complex societies around the world.</td>\n",
       "    </tr>\n",
       "  </tbody>\n",
       "</table>\n",
       "</div>"
      ],
      "text/plain": [
       "  Subject Course Number   Course                          Name  \\\n",
       "0     ANT           101  ANT 101  Introduction to Anthropology   \n",
       "1     ANT           105  ANT 105              World Prehistory   \n",
       "\n",
       "                                                                                                                                                                                                         Description  \\\n",
       "0  [introduction, anthropology, human, culture, past, present, comparative, subsistence, regime, economics, stratification, political, organization, marriage, kinship, culture, religion, social, cultural, change]   \n",
       "1                          [introduction, physical, anthropology, archaeology, human, evolution, human, physical, variation, peopling, world, origin, food, production, comparison, complex, society, around, world]   \n",
       "\n",
       "                                                                                                                                                                                                                                                                             Original Description  \n",
       "0  Introduction to anthropology - the study of human cultures in the past and present. Topics include the comparative study of subsistence regimes and economics, stratification and political organization, marriage and kinship, culture, religion, and social and cultural change. 4 credits.   \n",
       "1                                                         An introduction to physical anthropology and archaeology.  Topics include human evolution, human physical variation, the peopling of the world, the origins of food production and a comparison of complex societies around the world.   "
      ]
     },
     "execution_count": 12,
     "metadata": {},
     "output_type": "execute_result"
    }
   ],
   "source": [
    "#Split course column into subject and course number and create new columns\n",
    "split_course = subject_df[\"Course\"].str.split(\" \", n=1, expand=True)\n",
    "subject_df.insert(0, \"Subject\", split_course[0])\n",
    "subject_df.insert(1, \"Course Number\", split_course[1])\n",
    "subject_df.head(2)"
   ]
  },
  {
   "cell_type": "code",
   "execution_count": 13,
   "id": "11ca485d",
   "metadata": {},
   "outputs": [
    {
     "data": {
      "text/html": [
       "<div>\n",
       "<style scoped>\n",
       "    .dataframe tbody tr th:only-of-type {\n",
       "        vertical-align: middle;\n",
       "    }\n",
       "\n",
       "    .dataframe tbody tr th {\n",
       "        vertical-align: top;\n",
       "    }\n",
       "\n",
       "    .dataframe thead th {\n",
       "        text-align: right;\n",
       "    }\n",
       "</style>\n",
       "<table border=\"1\" class=\"dataframe\">\n",
       "  <thead>\n",
       "    <tr style=\"text-align: right;\">\n",
       "      <th></th>\n",
       "      <th>Subject</th>\n",
       "      <th>Course Number</th>\n",
       "      <th>Name</th>\n",
       "      <th>Description</th>\n",
       "      <th>Original Description</th>\n",
       "    </tr>\n",
       "  </thead>\n",
       "  <tbody>\n",
       "    <tr>\n",
       "      <th>0</th>\n",
       "      <td>ANT</td>\n",
       "      <td>101</td>\n",
       "      <td>Introduction to Anthropology</td>\n",
       "      <td>[introduction, anthropology, human, culture, past, present, comparative, subsistence, regime, economics, stratification, political, organization, marriage, kinship, culture, religion, social, cultural, change]</td>\n",
       "      <td>Introduction to anthropology - the study of human cultures in the past and present. Topics include the comparative study of subsistence regimes and economics, stratification and political organization, marriage and kinship, culture, religion, and social and cultural change. 4 credits.</td>\n",
       "    </tr>\n",
       "    <tr>\n",
       "      <th>1</th>\n",
       "      <td>ANT</td>\n",
       "      <td>105</td>\n",
       "      <td>World Prehistory</td>\n",
       "      <td>[introduction, physical, anthropology, archaeology, human, evolution, human, physical, variation, peopling, world, origin, food, production, comparison, complex, society, around, world]</td>\n",
       "      <td>An introduction to physical anthropology and archaeology.  Topics include human evolution, human physical variation, the peopling of the world, the origins of food production and a comparison of complex societies around the world.</td>\n",
       "    </tr>\n",
       "  </tbody>\n",
       "</table>\n",
       "</div>"
      ],
      "text/plain": [
       "  Subject Course Number                          Name  \\\n",
       "0     ANT           101  Introduction to Anthropology   \n",
       "1     ANT           105              World Prehistory   \n",
       "\n",
       "                                                                                                                                                                                                         Description  \\\n",
       "0  [introduction, anthropology, human, culture, past, present, comparative, subsistence, regime, economics, stratification, political, organization, marriage, kinship, culture, religion, social, cultural, change]   \n",
       "1                          [introduction, physical, anthropology, archaeology, human, evolution, human, physical, variation, peopling, world, origin, food, production, comparison, complex, society, around, world]   \n",
       "\n",
       "                                                                                                                                                                                                                                                                             Original Description  \n",
       "0  Introduction to anthropology - the study of human cultures in the past and present. Topics include the comparative study of subsistence regimes and economics, stratification and political organization, marriage and kinship, culture, religion, and social and cultural change. 4 credits.   \n",
       "1                                                         An introduction to physical anthropology and archaeology.  Topics include human evolution, human physical variation, the peopling of the world, the origins of food production and a comparison of complex societies around the world.   "
      ]
     },
     "execution_count": 13,
     "metadata": {},
     "output_type": "execute_result"
    }
   ],
   "source": [
    "#Drop original course column\n",
    "subject_df.drop(columns = [\"Course\"], inplace=True)\n",
    "subject_df.head(2)"
   ]
  },
  {
   "cell_type": "code",
   "execution_count": 14,
   "id": "fe45da3d",
   "metadata": {},
   "outputs": [
    {
     "data": {
      "text/html": [
       "<div>\n",
       "<style scoped>\n",
       "    .dataframe tbody tr th:only-of-type {\n",
       "        vertical-align: middle;\n",
       "    }\n",
       "\n",
       "    .dataframe tbody tr th {\n",
       "        vertical-align: top;\n",
       "    }\n",
       "\n",
       "    .dataframe thead th {\n",
       "        text-align: right;\n",
       "    }\n",
       "</style>\n",
       "<table border=\"1\" class=\"dataframe\">\n",
       "  <thead>\n",
       "    <tr style=\"text-align: right;\">\n",
       "      <th></th>\n",
       "      <th>Subject</th>\n",
       "      <th>Course Number</th>\n",
       "      <th>Name</th>\n",
       "      <th>Description</th>\n",
       "    </tr>\n",
       "  </thead>\n",
       "  <tbody>\n",
       "    <tr>\n",
       "      <th>0</th>\n",
       "      <td>ANT</td>\n",
       "      <td>101</td>\n",
       "      <td>Introduction to Anthropology</td>\n",
       "      <td>[introduction, anthropology, human, culture, past, present, comparative, subsistence, regime, economics, stratification, political, organization, marriage, kinship, culture, religion, social, cultural, change]</td>\n",
       "    </tr>\n",
       "  </tbody>\n",
       "</table>\n",
       "</div>"
      ],
      "text/plain": [
       "  Subject Course Number                          Name  \\\n",
       "0     ANT           101  Introduction to Anthropology   \n",
       "\n",
       "                                                                                                                                                                                                         Description  \n",
       "0  [introduction, anthropology, human, culture, past, present, comparative, subsistence, regime, economics, stratification, political, organization, marriage, kinship, culture, religion, social, cultural, change]  "
      ]
     },
     "execution_count": 14,
     "metadata": {},
     "output_type": "execute_result"
    }
   ],
   "source": [
    "#Drop original description column\n",
    "subject_df.drop(columns = [\"Original Description\"], inplace=True)\n",
    "subject_df.head(1)"
   ]
  },
  {
   "cell_type": "code",
   "execution_count": 15,
   "id": "a0e1995d",
   "metadata": {},
   "outputs": [
    {
     "data": {
      "text/html": [
       "<div>\n",
       "<style scoped>\n",
       "    .dataframe tbody tr th:only-of-type {\n",
       "        vertical-align: middle;\n",
       "    }\n",
       "\n",
       "    .dataframe tbody tr th {\n",
       "        vertical-align: top;\n",
       "    }\n",
       "\n",
       "    .dataframe thead th {\n",
       "        text-align: right;\n",
       "    }\n",
       "</style>\n",
       "<table border=\"1\" class=\"dataframe\">\n",
       "  <thead>\n",
       "    <tr style=\"text-align: right;\">\n",
       "      <th></th>\n",
       "      <th>Subject</th>\n",
       "      <th>Description</th>\n",
       "    </tr>\n",
       "  </thead>\n",
       "  <tbody>\n",
       "    <tr>\n",
       "      <th>0</th>\n",
       "      <td>ACC</td>\n",
       "      <td>[[theory, practice, accounting, applied, corporate, form, business, organization, analysis, business, transaction, valuation, asset, liability, determination, income, preparation, interpretation, financial, statement], [use, accounting, information, management, planning, control, decision, making, business, enterprise, production, decision, activity, based, costing, budgeting, standard, capital, investment, decision], [depth, financial, accounting, standard, related, presenting, income, statement, balance, sheet, business, enterprise, liability, current, asset, revenue, recognition, time, value, money, concept, begin, understand, significant, judgment, involved, application, accounting, standard, also, recognize, importance, ethic, accounting, decision, making, significant, service, learning, project, required, component], [depth, financial, accounting, standard, related, presenting, enterprise, balance, sheet, income, statement, statement, cash, flow, investment, derivative, long, term, asset, liability, ethical, decision, making, context, accounting, decision, making], [collection, utilization, cost, data, management, short, term, planning, control, purpose, cost, volume, profit, relationship, product, costing, method, flexible, budget, standard, cost, variance, cost, allocation], [intensive, conceptual, applied, introduction, auditing, assurance, society, emphasis, knowledge, assurance, service, well, skill, attitude, required, success, accounting, profession, focus, financial, statement, audit, well, assurance, service], [current, federal, income, tax, law, pertaining, individual, partnership, corporation, focus, compliance, matter, supplementary, tax, planning, research, fundamental], [examining, analyzing, system, process, accounting, information, using, transaction, cycle, manual, automated, environment, focus, design, development, implememntation, system, relevant, process, control, technology], [intermediate, level, international, accounting, overview, area, international, accounting, focusing, accounting, issue, encountered, multinational, company, engaged, international, trade, invested, foreign, operation, accounting, issue, unique, multinational, corporation, respect, foreign, operation, various, functional, area, accounting, country, world], [depth, financial, accounting, standard, related, presenting, enterprise, balance, sheet, income, statement, statement, cash, flow, liability, shareholder, equity, share, based, compensation, accounting, change, error, significant, service, learning, project, required, component], [selected, field, accounting, covered], [major, may, pursue, independent, project, sooperation, member, department, type, project, vary, interest, individual], [individualized, internship, approved, designated, faculty, sponsor, develop, objective, internship, experience, read, relevant, literature, prepare, written, assignment, submit, reflective, summary, internship, activity], [use, accounting, information, management, planning, control, decision, making, business, enterprise, production, decision, activity, based, costing, budgeting, standard, capital, investment, decision], [intermediate, level, financial, reporting, state, local, government, coverage, accounting, type, non, business, entity, governmental, nonprofit, auditing, cover, fund, accounting, concept, practice, well, government, wide, financial, reporting, relationship, two], [advanced, survey, fraud, examination, forensic, accounting, examining, risk, assessment, internal, control, ethic, corporate, governance, legal, criminal, justice, system, legislation, global, issue, lecture, research, discussion]]</td>\n",
       "    </tr>\n",
       "    <tr>\n",
       "      <th>1</th>\n",
       "      <td>ADC</td>\n",
       "      <td>[[capstone, experience, african, american, diaspora, culture, intedisciplinary, minor, varied]]</td>\n",
       "    </tr>\n",
       "  </tbody>\n",
       "</table>\n",
       "</div>"
      ],
      "text/plain": [
       "  Subject  \\\n",
       "0     ACC   \n",
       "1     ADC   \n",
       "\n",
       "                                                                                                                                                                                                                                                                                                                                                                                                                                                                                                                                                                                                                                                                                                                                                                                                                                                                                                                                                                                                                                                                                                                                                                                                                                                                                                                                                                                                                                                                                                                                                                                                                                                                                                                                                                                                                                                                                                                                                                                                                                                                                                                                                                                                                                                                                                                                                                                                                                                                                                                                                                                                                                                                                                                                                                                                                                                                                                                                                                                                                                                                                                                                                                                                                                                                                                                                                                                                                                                                                                                                                                                                                                                                                                                                                                                                      Description  \n",
       "0  [[theory, practice, accounting, applied, corporate, form, business, organization, analysis, business, transaction, valuation, asset, liability, determination, income, preparation, interpretation, financial, statement], [use, accounting, information, management, planning, control, decision, making, business, enterprise, production, decision, activity, based, costing, budgeting, standard, capital, investment, decision], [depth, financial, accounting, standard, related, presenting, income, statement, balance, sheet, business, enterprise, liability, current, asset, revenue, recognition, time, value, money, concept, begin, understand, significant, judgment, involved, application, accounting, standard, also, recognize, importance, ethic, accounting, decision, making, significant, service, learning, project, required, component], [depth, financial, accounting, standard, related, presenting, enterprise, balance, sheet, income, statement, statement, cash, flow, investment, derivative, long, term, asset, liability, ethical, decision, making, context, accounting, decision, making], [collection, utilization, cost, data, management, short, term, planning, control, purpose, cost, volume, profit, relationship, product, costing, method, flexible, budget, standard, cost, variance, cost, allocation], [intensive, conceptual, applied, introduction, auditing, assurance, society, emphasis, knowledge, assurance, service, well, skill, attitude, required, success, accounting, profession, focus, financial, statement, audit, well, assurance, service], [current, federal, income, tax, law, pertaining, individual, partnership, corporation, focus, compliance, matter, supplementary, tax, planning, research, fundamental], [examining, analyzing, system, process, accounting, information, using, transaction, cycle, manual, automated, environment, focus, design, development, implememntation, system, relevant, process, control, technology], [intermediate, level, international, accounting, overview, area, international, accounting, focusing, accounting, issue, encountered, multinational, company, engaged, international, trade, invested, foreign, operation, accounting, issue, unique, multinational, corporation, respect, foreign, operation, various, functional, area, accounting, country, world], [depth, financial, accounting, standard, related, presenting, enterprise, balance, sheet, income, statement, statement, cash, flow, liability, shareholder, equity, share, based, compensation, accounting, change, error, significant, service, learning, project, required, component], [selected, field, accounting, covered], [major, may, pursue, independent, project, sooperation, member, department, type, project, vary, interest, individual], [individualized, internship, approved, designated, faculty, sponsor, develop, objective, internship, experience, read, relevant, literature, prepare, written, assignment, submit, reflective, summary, internship, activity], [use, accounting, information, management, planning, control, decision, making, business, enterprise, production, decision, activity, based, costing, budgeting, standard, capital, investment, decision], [intermediate, level, financial, reporting, state, local, government, coverage, accounting, type, non, business, entity, governmental, nonprofit, auditing, cover, fund, accounting, concept, practice, well, government, wide, financial, reporting, relationship, two], [advanced, survey, fraud, examination, forensic, accounting, examining, risk, assessment, internal, control, ethic, corporate, governance, legal, criminal, justice, system, legislation, global, issue, lecture, research, discussion]]  \n",
       "1                                                                                                                                                                                                                                                                                                                                                                                                                                                                                                                                                                                                                                                                                                                                                                                                                                                                                                                                                                                                                                                                                                                                                                                                                                                                                                                                                                                                                                                                                                                                                                                                                                                                                                                                                                                                                                                                                                                                                                                                                                                                                                                                                                                                                                                                                                                                                                                                                                                                                                                                                                                                                                                                                                                                                                                                                                                                                                                                                                                                                                                                                                                                                                                                                                                                                                                                                                                                                                                                                                                                                                                                                                                                                                                 [[capstone, experience, african, american, diaspora, culture, intedisciplinary, minor, varied]]  "
      ]
     },
     "execution_count": 15,
     "metadata": {},
     "output_type": "execute_result"
    }
   ],
   "source": [
    "#Group the df by subject, with one subject per row and all descriptions combined into lists\n",
    "subject_df = subject_df.groupby(\"Subject\").agg({\"Description\": lambda x: x.tolist()})\n",
    "subject_df = subject_df.reset_index()\n",
    "subject_df.head(2)"
   ]
  },
  {
   "cell_type": "code",
   "execution_count": 16,
   "id": "1d313744",
   "metadata": {},
   "outputs": [
    {
     "data": {
      "text/html": [
       "<div>\n",
       "<style scoped>\n",
       "    .dataframe tbody tr th:only-of-type {\n",
       "        vertical-align: middle;\n",
       "    }\n",
       "\n",
       "    .dataframe tbody tr th {\n",
       "        vertical-align: top;\n",
       "    }\n",
       "\n",
       "    .dataframe thead th {\n",
       "        text-align: right;\n",
       "    }\n",
       "</style>\n",
       "<table border=\"1\" class=\"dataframe\">\n",
       "  <thead>\n",
       "    <tr style=\"text-align: right;\">\n",
       "      <th></th>\n",
       "      <th>Subject</th>\n",
       "      <th>Description</th>\n",
       "    </tr>\n",
       "  </thead>\n",
       "  <tbody>\n",
       "    <tr>\n",
       "      <th>0</th>\n",
       "      <td>ACC</td>\n",
       "      <td>[theory, practice, accounting, applied, corporate, form, business, organization, analysis, business, transaction, valuation, asset, liability, determination, income, preparation, interpretation, financial, statement, use, accounting, information, management, planning, control, decision, making, business, enterprise, production, decision, activity, based, costing, budgeting, standard, capital, investment, decision, depth, financial, accounting, standard, related, presenting, income, statement, balance, sheet, business, enterprise, liability, current, asset, revenue, recognition, time, value, money, concept, begin, understand, significant, judgment, involved, application, accounting, standard, also, recognize, importance, ethic, accounting, decision, making, significant, service, learning, project, required, component, depth, financial, accounting, standard, related, presenting, enterprise, balance, sheet, income, statement, statement, cash, flow, investment, derivative, long, term, ...]</td>\n",
       "    </tr>\n",
       "    <tr>\n",
       "      <th>1</th>\n",
       "      <td>ADC</td>\n",
       "      <td>[capstone, experience, african, american, diaspora, culture, intedisciplinary, minor, varied]</td>\n",
       "    </tr>\n",
       "  </tbody>\n",
       "</table>\n",
       "</div>"
      ],
      "text/plain": [
       "  Subject  \\\n",
       "0     ACC   \n",
       "1     ADC   \n",
       "\n",
       "                                                                                                                                                                                                                                                                                                                                                                                                                                                                                                                                                                                                                                                                                                                                                                                                                                                                                                                                                                                                                                Description  \n",
       "0  [theory, practice, accounting, applied, corporate, form, business, organization, analysis, business, transaction, valuation, asset, liability, determination, income, preparation, interpretation, financial, statement, use, accounting, information, management, planning, control, decision, making, business, enterprise, production, decision, activity, based, costing, budgeting, standard, capital, investment, decision, depth, financial, accounting, standard, related, presenting, income, statement, balance, sheet, business, enterprise, liability, current, asset, revenue, recognition, time, value, money, concept, begin, understand, significant, judgment, involved, application, accounting, standard, also, recognize, importance, ethic, accounting, decision, making, significant, service, learning, project, required, component, depth, financial, accounting, standard, related, presenting, enterprise, balance, sheet, income, statement, statement, cash, flow, investment, derivative, long, term, ...]  \n",
       "1                                                                                                                                                                                                                                                                                                                                                                                                                                                                                                                                                                                                                                                                                                                                                                                                                                                                                                                                             [capstone, experience, african, american, diaspora, culture, intedisciplinary, minor, varied]  "
      ]
     },
     "execution_count": 16,
     "metadata": {},
     "output_type": "execute_result"
    }
   ],
   "source": [
    "#flatten the lists of descriptions so they're no longer lists of lists\n",
    "subject_df[\"Description\"] = subject_df[\"Description\"].apply(lambda x: [item for sublist in x for item in sublist])\n",
    "subject_df.head(2)"
   ]
  },
  {
   "cell_type": "code",
   "execution_count": 17,
   "id": "da79c8be",
   "metadata": {},
   "outputs": [
    {
     "data": {
      "text/html": [
       "<div>\n",
       "<style scoped>\n",
       "    .dataframe tbody tr th:only-of-type {\n",
       "        vertical-align: middle;\n",
       "    }\n",
       "\n",
       "    .dataframe tbody tr th {\n",
       "        vertical-align: top;\n",
       "    }\n",
       "\n",
       "    .dataframe thead th {\n",
       "        text-align: right;\n",
       "    }\n",
       "</style>\n",
       "<table border=\"1\" class=\"dataframe\">\n",
       "  <thead>\n",
       "    <tr style=\"text-align: right;\">\n",
       "      <th></th>\n",
       "      <th>Abbreviation</th>\n",
       "      <th>Full name</th>\n",
       "    </tr>\n",
       "  </thead>\n",
       "  <tbody>\n",
       "    <tr>\n",
       "      <th>0</th>\n",
       "      <td>ACC</td>\n",
       "      <td>Accounting</td>\n",
       "    </tr>\n",
       "    <tr>\n",
       "      <th>1</th>\n",
       "      <td>ADC</td>\n",
       "      <td>African American and Diaspora Studies</td>\n",
       "    </tr>\n",
       "    <tr>\n",
       "      <th>2</th>\n",
       "      <td>ANT</td>\n",
       "      <td>Anthropology</td>\n",
       "    </tr>\n",
       "    <tr>\n",
       "      <th>3</th>\n",
       "      <td>ART</td>\n",
       "      <td>Art</td>\n",
       "    </tr>\n",
       "    <tr>\n",
       "      <th>4</th>\n",
       "      <td>AST</td>\n",
       "      <td>Asian Studies</td>\n",
       "    </tr>\n",
       "  </tbody>\n",
       "</table>\n",
       "</div>"
      ],
      "text/plain": [
       "  Abbreviation                              Full name\n",
       "0          ACC                             Accounting\n",
       "1          ADC  African American and Diaspora Studies\n",
       "2          ANT                           Anthropology\n",
       "3          ART                                    Art\n",
       "4          AST                          Asian Studies"
      ]
     },
     "execution_count": 17,
     "metadata": {},
     "output_type": "execute_result"
    }
   ],
   "source": [
    "#import excel file with full subject names since not all abbrevations are obvious\n",
    "path2 = r\"C:\\Users\\Mandy\\Documents\\Data science projects\\Furman catalog\\subject_names.xlsx\"\n",
    "subject_names = pd.read_excel(path2)\n",
    "subject_names.head()"
   ]
  },
  {
   "cell_type": "code",
   "execution_count": 18,
   "id": "adb78804",
   "metadata": {},
   "outputs": [
    {
     "data": {
      "text/plain": [
       "{'ACC': 'Accounting',\n",
       " 'ADC': 'African American and Diaspora Studies',\n",
       " 'ANT': 'Anthropology',\n",
       " 'ART': 'Art',\n",
       " 'AST': 'Asian Studies',\n",
       " 'AS': 'Asian Studies',\n",
       " 'BIO': 'Biology',\n",
       " 'BUS': 'Business Administration',\n",
       " 'CHM': 'Chemistry',\n",
       " 'CHN': 'Chinese',\n",
       " 'CLS': 'Classics',\n",
       " 'COM': 'Communication Studies',\n",
       " 'CEM': 'Community Engaged Medicine',\n",
       " 'CSC': 'Computer Science',\n",
       " 'DSC': 'Data Science',\n",
       " 'DAN': 'Dance',\n",
       " 'EES': 'Earth and Environmental Sciences',\n",
       " 'ECN': 'Economics',\n",
       " 'EDU': 'Education',\n",
       " 'EDCI': 'Curriculum and Instruction in Education',\n",
       " 'EDEC': 'Early Childhood Education',\n",
       " 'EDEX': 'Exceptionalities in Education',\n",
       " 'EDEP': 'Extended Program in Education',\n",
       " 'EDFD': 'Educational Foundations',\n",
       " 'EDRD': 'Literacy Education',\n",
       " 'EDMT': 'Master of Arts in Teaching',\n",
       " 'EDSL': 'School and Educational Leadership',\n",
       " 'EDSP': 'Special Topics in Education',\n",
       " 'EDOL': 'Teaching English to Speakers of Other Languages',\n",
       " 'ENG': 'English',\n",
       " 'EST': 'Environmental Studies',\n",
       " 'FST': 'Film Studies',\n",
       " 'FYW': 'First Year Writing',\n",
       " 'FRN': 'French',\n",
       " 'GGY': 'Geography',\n",
       " 'GRM': 'German',\n",
       " 'GRK': 'Greek',\n",
       " 'HSC': 'Health Sciences',\n",
       " 'HST': 'History',\n",
       " 'HUM': 'Humanities',\n",
       " 'IDS': 'Interdisciplinary Studies',\n",
       " 'TFA': 'Summer Undergraduate Research',\n",
       " 'ITL': 'Italian',\n",
       " 'JPN': 'Japanese',\n",
       " 'LTN': 'Latin',\n",
       " 'LAS': 'Latin American Studies',\n",
       " 'LNG': 'Linguistics',\n",
       " 'MTH': 'Mathematics',\n",
       " 'MXP': 'May Experience',\n",
       " 'MES': 'Middle East and Islamic Studies',\n",
       " 'MSL': 'Military Science Leadership',\n",
       " 'ARB': 'Arabic',\n",
       " 'MLL': 'Modern Languages and Literatures',\n",
       " 'MUS': 'Music',\n",
       " 'NSC': 'Neuroscience',\n",
       " 'PHL': 'Philosophy',\n",
       " 'PHY': 'Physics',\n",
       " 'POL': 'Politics and International Affairs',\n",
       " 'PVS': 'Poverty Studies',\n",
       " 'PSY': 'Psychology',\n",
       " 'REL': 'Religion',\n",
       " 'SCI': 'Science',\n",
       " 'SOC': 'Sociology',\n",
       " 'SPN': 'Spanish',\n",
       " 'SDG': 'Strategic Design',\n",
       " 'STAT': 'Statistics',\n",
       " 'SUS': 'Sustainability Science',\n",
       " 'THA': 'Theatre Arts',\n",
       " 'UST': 'Urban Studies',\n",
       " 'WGS': \"Women's, Gender, and Sexuality Studies\"}"
      ]
     },
     "execution_count": 18,
     "metadata": {},
     "output_type": "execute_result"
    }
   ],
   "source": [
    "#Convert the df to a dictionary with subject abbreviations as keys and full names as values\n",
    "subject_dict = subject_names.set_index(\"Abbreviation\").T.to_dict(\"index\")\n",
    "subject_dict = subject_dict[\"Full name\"]\n",
    "subject_dict"
   ]
  },
  {
   "cell_type": "code",
   "execution_count": 19,
   "id": "778c738e",
   "metadata": {},
   "outputs": [
    {
     "data": {
      "text/html": [
       "<div>\n",
       "<style scoped>\n",
       "    .dataframe tbody tr th:only-of-type {\n",
       "        vertical-align: middle;\n",
       "    }\n",
       "\n",
       "    .dataframe tbody tr th {\n",
       "        vertical-align: top;\n",
       "    }\n",
       "\n",
       "    .dataframe thead th {\n",
       "        text-align: right;\n",
       "    }\n",
       "</style>\n",
       "<table border=\"1\" class=\"dataframe\">\n",
       "  <thead>\n",
       "    <tr style=\"text-align: right;\">\n",
       "      <th></th>\n",
       "      <th>Abbreviation</th>\n",
       "      <th>Subject</th>\n",
       "      <th>Description</th>\n",
       "    </tr>\n",
       "  </thead>\n",
       "  <tbody>\n",
       "    <tr>\n",
       "      <th>0</th>\n",
       "      <td>ACC</td>\n",
       "      <td>Accounting</td>\n",
       "      <td>[theory, practice, accounting, applied, corporate, form, business, organization, analysis, business, transaction, valuation, asset, liability, determination, income, preparation, interpretation, financial, statement, use, accounting, information, management, planning, control, decision, making, business, enterprise, production, decision, activity, based, costing, budgeting, standard, capital, investment, decision, depth, financial, accounting, standard, related, presenting, income, statement, balance, sheet, business, enterprise, liability, current, asset, revenue, recognition, time, value, money, concept, begin, understand, significant, judgment, involved, application, accounting, standard, also, recognize, importance, ethic, accounting, decision, making, significant, service, learning, project, required, component, depth, financial, accounting, standard, related, presenting, enterprise, balance, sheet, income, statement, statement, cash, flow, investment, derivative, long, term, ...]</td>\n",
       "    </tr>\n",
       "    <tr>\n",
       "      <th>1</th>\n",
       "      <td>ADC</td>\n",
       "      <td>African American and Diaspora Studies</td>\n",
       "      <td>[capstone, experience, african, american, diaspora, culture, intedisciplinary, minor, varied]</td>\n",
       "    </tr>\n",
       "    <tr>\n",
       "      <th>2</th>\n",
       "      <td>ANT</td>\n",
       "      <td>Anthropology</td>\n",
       "      <td>[introduction, anthropology, human, culture, past, present, comparative, subsistence, regime, economics, stratification, political, organization, marriage, kinship, culture, religion, social, cultural, change, introduction, physical, anthropology, archaeology, human, evolution, human, physical, variation, peopling, world, origin, food, production, comparison, complex, society, around, world, social, anthropological, survey, diverse, people, contemporary, sub, saharan, africa, ethnographic, survey, global, cultural, diversity, case, africa, america, asia, europe, middle, east, may, daily, life, sociocultural, environmental, change, adaptation, migration, politics, work, religion, gender, family, art, among, foraging, agricultural, industrial, society, survey, various, facet, modern, japanese, society, culture, family, community, ethnicity, life, cycle, education, gender, religion, work, popular, culture, well, cultural, aspect, ...]</td>\n",
       "    </tr>\n",
       "    <tr>\n",
       "      <th>3</th>\n",
       "      <td>ARB</td>\n",
       "      <td>Arabic</td>\n",
       "      <td>[introduction, sound, system, grammatical, structure, necessary, develop, listening, speaking, reading, writing, skill, arabic, continued, development, listening, speaking, reading, writing, skill, arabic]</td>\n",
       "    </tr>\n",
       "    <tr>\n",
       "      <th>4</th>\n",
       "      <td>ART</td>\n",
       "      <td>Art</td>\n",
       "      <td>[introductory, studio, providing, depth, hand, experience, non, art, major, variety, two, dimensional, three, dimensional, medium, technique, fundamental, two, dimensional, design, explored, lecture, class, project, integration, graphic, design, problem, solving, tool, conceptual, development, formal, element, design, introduced, type, image, creative, software, explore, design, element, principle, traditional, medium, software, exercise, element, principle, three, dimensional, design, lecture, project, explore, concept, working, three, dimensional, format, theory, color, painting, principle, technique, exploration, color, relationship, based, johannes, itten, seven, area, chromatic, contrast, theory, used, specific, exercise, painting, direct, observation, implement, defined, color, theory, concept, drawing, element, art, composition, extensive, exercise, direct, observation, one, two, point, perspective, ...]</td>\n",
       "    </tr>\n",
       "  </tbody>\n",
       "</table>\n",
       "</div>"
      ],
      "text/plain": [
       "  Abbreviation                                Subject  \\\n",
       "0          ACC                             Accounting   \n",
       "1          ADC  African American and Diaspora Studies   \n",
       "2          ANT                           Anthropology   \n",
       "3          ARB                                 Arabic   \n",
       "4          ART                                    Art   \n",
       "\n",
       "                                                                                                                                                                                                                                                                                                                                                                                                                                                                                                                                                                                                                                                                                                                                                                                                                                                                                                                                                                                                                                Description  \n",
       "0  [theory, practice, accounting, applied, corporate, form, business, organization, analysis, business, transaction, valuation, asset, liability, determination, income, preparation, interpretation, financial, statement, use, accounting, information, management, planning, control, decision, making, business, enterprise, production, decision, activity, based, costing, budgeting, standard, capital, investment, decision, depth, financial, accounting, standard, related, presenting, income, statement, balance, sheet, business, enterprise, liability, current, asset, revenue, recognition, time, value, money, concept, begin, understand, significant, judgment, involved, application, accounting, standard, also, recognize, importance, ethic, accounting, decision, making, significant, service, learning, project, required, component, depth, financial, accounting, standard, related, presenting, enterprise, balance, sheet, income, statement, statement, cash, flow, investment, derivative, long, term, ...]  \n",
       "1                                                                                                                                                                                                                                                                                                                                                                                                                                                                                                                                                                                                                                                                                                                                                                                                                                                                                                                                             [capstone, experience, african, american, diaspora, culture, intedisciplinary, minor, varied]  \n",
       "2                                                         [introduction, anthropology, human, culture, past, present, comparative, subsistence, regime, economics, stratification, political, organization, marriage, kinship, culture, religion, social, cultural, change, introduction, physical, anthropology, archaeology, human, evolution, human, physical, variation, peopling, world, origin, food, production, comparison, complex, society, around, world, social, anthropological, survey, diverse, people, contemporary, sub, saharan, africa, ethnographic, survey, global, cultural, diversity, case, africa, america, asia, europe, middle, east, may, daily, life, sociocultural, environmental, change, adaptation, migration, politics, work, religion, gender, family, art, among, foraging, agricultural, industrial, society, survey, various, facet, modern, japanese, society, culture, family, community, ethnicity, life, cycle, education, gender, religion, work, popular, culture, well, cultural, aspect, ...]  \n",
       "3                                                                                                                                                                                                                                                                                                                                                                                                                                                                                                                                                                                                                                                                                                                                                                                                                             [introduction, sound, system, grammatical, structure, necessary, develop, listening, speaking, reading, writing, skill, arabic, continued, development, listening, speaking, reading, writing, skill, arabic]  \n",
       "4                                                                              [introductory, studio, providing, depth, hand, experience, non, art, major, variety, two, dimensional, three, dimensional, medium, technique, fundamental, two, dimensional, design, explored, lecture, class, project, integration, graphic, design, problem, solving, tool, conceptual, development, formal, element, design, introduced, type, image, creative, software, explore, design, element, principle, traditional, medium, software, exercise, element, principle, three, dimensional, design, lecture, project, explore, concept, working, three, dimensional, format, theory, color, painting, principle, technique, exploration, color, relationship, based, johannes, itten, seven, area, chromatic, contrast, theory, used, specific, exercise, painting, direct, observation, implement, defined, color, theory, concept, drawing, element, art, composition, extensive, exercise, direct, observation, one, two, point, perspective, ...]  "
      ]
     },
     "execution_count": 19,
     "metadata": {},
     "output_type": "execute_result"
    }
   ],
   "source": [
    "subject_df.insert(0, \"Abbreviation\", subject_df[\"Subject\"])\n",
    "subject_df[\"Subject\"] = subject_df[\"Abbreviation\"].map(subject_dict)\n",
    "subject_df.head()"
   ]
  },
  {
   "cell_type": "code",
   "execution_count": 20,
   "id": "3ee7dc8c",
   "metadata": {},
   "outputs": [
    {
     "data": {
      "text/html": [
       "<div>\n",
       "<style scoped>\n",
       "    .dataframe tbody tr th:only-of-type {\n",
       "        vertical-align: middle;\n",
       "    }\n",
       "\n",
       "    .dataframe tbody tr th {\n",
       "        vertical-align: top;\n",
       "    }\n",
       "\n",
       "    .dataframe thead th {\n",
       "        text-align: right;\n",
       "    }\n",
       "</style>\n",
       "<table border=\"1\" class=\"dataframe\">\n",
       "  <thead>\n",
       "    <tr style=\"text-align: right;\">\n",
       "      <th></th>\n",
       "      <th>Abbreviation</th>\n",
       "      <th>Subject</th>\n",
       "      <th>Description</th>\n",
       "    </tr>\n",
       "  </thead>\n",
       "  <tbody>\n",
       "    <tr>\n",
       "      <th>0</th>\n",
       "      <td>ACC</td>\n",
       "      <td>Accounting</td>\n",
       "      <td>[accounting, accounting, accounting, accounting, accounting, accounting, accounting, accounting, accounting, accounting, accounting, accounting, accounting, accounting, accounting, accounting, accounting, accounting, accounting, accounting, accounting, activity, activity, activity, advanced, allocation, also, analysis, analyzing, application, applied, applied, approved, area, area, assessment, asset, asset, asset, assignment, assurance, assurance, assurance, attitude, audit, auditing, auditing, automated, balance, balance, balance, based, based, based, begin, budget, budgeting, budgeting, business, business, business, business, business, business, capital, capital, cash, cash, change, collection, company, compensation, compliance, component, component, concept, concept, conceptual, context, control, control, control, control, control, corporate, corporate, corporation, corporation, cost, cost, cost, cost, costing, costing, costing, country, cover, coverage, covered, criminal, ...]</td>\n",
       "    </tr>\n",
       "    <tr>\n",
       "      <th>1</th>\n",
       "      <td>ADC</td>\n",
       "      <td>African American and Diaspora Studies</td>\n",
       "      <td>[african, american, capstone, culture, diaspora, experience, intedisciplinary, minor, varied]</td>\n",
       "    </tr>\n",
       "  </tbody>\n",
       "</table>\n",
       "</div>"
      ],
      "text/plain": [
       "  Abbreviation                                Subject  \\\n",
       "0          ACC                             Accounting   \n",
       "1          ADC  African American and Diaspora Studies   \n",
       "\n",
       "                                                                                                                                                                                                                                                                                                                                                                                                                                                                                                                                                                                                                                                                                                                                                                                                                                                                                                                                                                                                                           Description  \n",
       "0  [accounting, accounting, accounting, accounting, accounting, accounting, accounting, accounting, accounting, accounting, accounting, accounting, accounting, accounting, accounting, accounting, accounting, accounting, accounting, accounting, accounting, activity, activity, activity, advanced, allocation, also, analysis, analyzing, application, applied, applied, approved, area, area, assessment, asset, asset, asset, assignment, assurance, assurance, assurance, attitude, audit, auditing, auditing, automated, balance, balance, balance, based, based, based, begin, budget, budgeting, budgeting, business, business, business, business, business, business, capital, capital, cash, cash, change, collection, company, compensation, compliance, component, component, concept, concept, conceptual, context, control, control, control, control, control, corporate, corporate, corporation, corporation, cost, cost, cost, cost, costing, costing, costing, country, cover, coverage, covered, criminal, ...]  \n",
       "1                                                                                                                                                                                                                                                                                                                                                                                                                                                                                                                                                                                                                                                                                                                                                                                                                                                                                                                                        [african, american, capstone, culture, diaspora, experience, intedisciplinary, minor, varied]  "
      ]
     },
     "execution_count": 20,
     "metadata": {},
     "output_type": "execute_result"
    }
   ],
   "source": [
    "#Sort the words for each subject alphabetically\n",
    "subject_df[\"Description\"] = subject_df[\"Description\"].apply(lambda x: sorted(x))\n",
    "subject_df.head(2)"
   ]
  },
  {
   "cell_type": "code",
   "execution_count": 21,
   "id": "0830ed91",
   "metadata": {},
   "outputs": [],
   "source": [
    "#save df to disk as a pickle file\n",
    "path = r\"C:\\Users\\Mandy\\Documents\\Data science projects\\Furman catalog\\subject_df.pkl\"\n",
    "subject_df.to_pickle(path)"
   ]
  },
  {
   "cell_type": "code",
   "execution_count": null,
   "id": "a57110b4",
   "metadata": {},
   "outputs": [],
   "source": []
  }
 ],
 "metadata": {
  "kernelspec": {
   "display_name": "Python 3",
   "language": "python",
   "name": "python3"
  },
  "language_info": {
   "codemirror_mode": {
    "name": "ipython",
    "version": 3
   },
   "file_extension": ".py",
   "mimetype": "text/x-python",
   "name": "python",
   "nbconvert_exporter": "python",
   "pygments_lexer": "ipython3",
   "version": "3.7.10"
  }
 },
 "nbformat": 4,
 "nbformat_minor": 5
}
